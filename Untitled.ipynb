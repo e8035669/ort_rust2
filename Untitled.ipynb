{
 "cells": [
  {
   "cell_type": "code",
   "execution_count": 2,
   "id": "d4f60b96-65b0-4bd7-9b02-030dcf736988",
   "metadata": {},
   "outputs": [],
   "source": [
    ":dep ort = { version = \"2.0.0-alpha.2\", features = [ \"load-dynamic\" ] }\n",
    ":dep ndarray\n",
    ":dep image\n",
    ":dep ndarray-stats\n"
   ]
  },
  {
   "cell_type": "code",
   "execution_count": 3,
   "id": "fa838cfe-077b-4ed9-bfc8-0af3da6d2d7c",
   "metadata": {},
   "outputs": [],
   "source": [
    "use std::path::Path;\n",
    "use ort::{inputs, Session, CUDAExecutionProvider, SessionOutputs};\n",
    "use ndarray::{s, Array, Axis, Dim};\n",
    "use image::{imageops::FilterType, GenericImageView};\n",
    "use ndarray_stats::QuantileExt;\n"
   ]
  },
  {
   "cell_type": "code",
   "execution_count": 4,
   "id": "0f41c493-2595-4825-9553-c2af1e1960bf",
   "metadata": {},
   "outputs": [],
   "source": [
    "let model = Session::builder()?\n",
    "    .with_execution_providers([CUDAExecutionProvider::default().build()])?\n",
    "    .with_intra_threads(4)?\n",
    "    .with_model_from_file(\"./yolov8m.onnx\")?;"
   ]
  },
  {
   "cell_type": "code",
   "execution_count": 5,
   "id": "ec7d4614-8093-4132-950c-74b1534d03a8",
   "metadata": {},
   "outputs": [
    {
     "name": "stdout",
     "output_type": "stream",
     "text": [
      "Session { inner: SharedSessionInner { session_ptr: 0x564b3509e470, allocator: Allocator { ptr: 0x7f10f9fcb3c8, is_default: true } }, inputs: [Input { name: \"images\", input_type: Tensor { ty: Float32, dimensions: [1, 3, 640, 640] } }], outputs: [Output { name: \"output0\", output_type: Tensor { ty: Float32, dimensions: [1, 84, 8400] } }] }\n"
     ]
    },
    {
     "data": {
      "text/plain": [
       "()"
      ]
     },
     "execution_count": 5,
     "metadata": {},
     "output_type": "execute_result"
    }
   ],
   "source": [
    "println!(\"{model:?}\")"
   ]
  },
  {
   "cell_type": "code",
   "execution_count": 6,
   "id": "43670f9c-27b7-44a2-91be-d2cfbe5569a7",
   "metadata": {},
   "outputs": [],
   "source": [
    "let orig_img = image::open(Path::new(\"baseball.jpg\"))?;"
   ]
  },
  {
   "cell_type": "code",
   "execution_count": 7,
   "id": "fbd642e1-851f-46b4-9340-c8bfce71c0e9",
   "metadata": {},
   "outputs": [],
   "source": [
    "// orig_img"
   ]
  },
  {
   "cell_type": "code",
   "execution_count": 8,
   "id": "40b2c6e0-a4c3-4d6b-9316-0a160366febc",
   "metadata": {},
   "outputs": [
    {
     "name": "stdout",
     "output_type": "stream",
     "text": [
      "640, 480\n"
     ]
    }
   ],
   "source": [
    "println!(\"{}, {}\", orig_img.width(), orig_img.height());"
   ]
  },
  {
   "cell_type": "code",
   "execution_count": 9,
   "id": "8fc107d8-de96-4539-b2b3-c7e2756103de",
   "metadata": {},
   "outputs": [],
   "source": [
    "fn print_type_of<T>(_: &T) {\n",
    "    println!(\"{}\", std::any::type_name::<T>())\n",
    "}"
   ]
  },
  {
   "cell_type": "code",
   "execution_count": 10,
   "id": "883a2621-39b2-4794-897a-6978d56c9b5d",
   "metadata": {},
   "outputs": [
    {
     "name": "stdout",
     "output_type": "stream",
     "text": [
      "(u32, u32)\n"
     ]
    }
   ],
   "source": [
    "print_type_of(&orig_img.dimensions());"
   ]
  },
  {
   "cell_type": "code",
   "execution_count": 11,
   "id": "862f045a-9680-4646-8860-53739af0a0f4",
   "metadata": {},
   "outputs": [
    {
     "ename": "Error",
     "evalue": "cannot index into a value of type `DynamicImage`",
     "output_type": "error",
     "traceback": [
      "\u001b[31m[E0608] Error:\u001b[0m cannot index into a value of type `DynamicImage`",
      "   \u001b[38;5;246m╭\u001b[0m\u001b[38;5;246m─\u001b[0m\u001b[38;5;246m[\u001b[0mcommand_11:1:1\u001b[38;5;246m]\u001b[0m",
      "   \u001b[38;5;246m│\u001b[0m",
      " \u001b[38;5;246m1 │\u001b[0m \u001b[38;5;249mo\u001b[0m\u001b[38;5;249mr\u001b[0m\u001b[38;5;249mi\u001b[0m\u001b[38;5;249mg\u001b[0m\u001b[38;5;249m_\u001b[0m\u001b[38;5;249mi\u001b[0m\u001b[38;5;249mm\u001b[0m\u001b[38;5;249mg\u001b[0m\u001b[38;5;54m[\u001b[0m\u001b[38;5;54m(\u001b[0m\u001b[38;5;54m0\u001b[0m\u001b[38;5;54m,\u001b[0m\u001b[38;5;54m \u001b[0m\u001b[38;5;54m0\u001b[0m\u001b[38;5;54m)\u001b[0m\u001b[38;5;54m]\u001b[0m",
      " \u001b[38;5;240m  │\u001b[0m         \u001b[38;5;54m─\u001b[0m\u001b[38;5;54m─\u001b[0m\u001b[38;5;54m─\u001b[0m\u001b[38;5;54m─\u001b[0m\u001b[38;5;54m┬\u001b[0m\u001b[38;5;54m─\u001b[0m\u001b[38;5;54m─\u001b[0m\u001b[38;5;54m─\u001b[0m  ",
      " \u001b[38;5;240m  │\u001b[0m             \u001b[38;5;54m╰\u001b[0m\u001b[38;5;54m─\u001b[0m\u001b[38;5;54m─\u001b[0m\u001b[38;5;54m─\u001b[0m\u001b[38;5;54m─\u001b[0m\u001b[38;5;54m─\u001b[0m error: cannot index into a value of type `DynamicImage`",
      "\u001b[38;5;246m───╯\u001b[0m"
     ]
    }
   ],
   "source": [
    "orig_img[(0, 0)]"
   ]
  },
  {
   "cell_type": "code",
   "execution_count": 12,
   "id": "a8071461-3850-4107-847f-d4f6b483c204",
   "metadata": {},
   "outputs": [
    {
     "name": "stdout",
     "output_type": "stream",
     "text": [
      "image::dynimage::DynamicImage\n"
     ]
    }
   ],
   "source": [
    "print_type_of(&orig_img);"
   ]
  },
  {
   "cell_type": "code",
   "execution_count": 13,
   "id": "a4cca2c9-a4bf-4d34-9000-24cb3168a9a0",
   "metadata": {},
   "outputs": [],
   "source": [
    "// let orig_img = orig_img.to_rgb8();"
   ]
  },
  {
   "cell_type": "code",
   "execution_count": 14,
   "id": "6987f8bc-1dfc-41d7-b067-01fba8970bf6",
   "metadata": {},
   "outputs": [
    {
     "name": "stdout",
     "output_type": "stream",
     "text": [
      "image::dynimage::DynamicImage\n"
     ]
    }
   ],
   "source": [
    "print_type_of(&orig_img);"
   ]
  },
  {
   "cell_type": "code",
   "execution_count": 15,
   "id": "b7075227-b040-4384-91f0-9f67354f7395",
   "metadata": {},
   "outputs": [],
   "source": [
    "// let rgb = orig_img[(639, 479)];"
   ]
  },
  {
   "cell_type": "code",
   "execution_count": null,
   "id": "7c3547d6-df16-4a2a-9b31-9dfcc365940f",
   "metadata": {},
   "outputs": [],
   "source": []
  },
  {
   "cell_type": "code",
   "execution_count": 16,
   "id": "d2c99722-a194-4fbf-81c8-ecdb5284d781",
   "metadata": {},
   "outputs": [
    {
     "name": "stdout",
     "output_type": "stream",
     "text": [
      "0, 0, [73, 1, 0, 255]\n"
     ]
    },
    {
     "data": {
      "text/plain": [
       "()"
      ]
     },
     "execution_count": 16,
     "metadata": {},
     "output_type": "execute_result"
    }
   ],
   "source": [
    "for (x, y, rgb) in orig_img.pixels() {\n",
    "    println!(\"{}, {}, {:?}\", x, y, rgb.0);\n",
    "    break;\n",
    "}"
   ]
  },
  {
   "cell_type": "code",
   "execution_count": 17,
   "id": "bd7e03e4-ac67-446b-9065-ee5c5ef7beff",
   "metadata": {},
   "outputs": [],
   "source": [
    "let img = orig_img.resize_exact(640, 640, FilterType::CatmullRom);"
   ]
  },
  {
   "cell_type": "code",
   "execution_count": 18,
   "id": "32c91fcb-85fd-4362-9ca6-10c6e821087c",
   "metadata": {},
   "outputs": [],
   "source": [
    "let mut input: Array<f32, _> = Array::zeros((1, 3, 640, 640));"
   ]
  },
  {
   "cell_type": "code",
   "execution_count": 19,
   "id": "3e744050-ce56-4698-9ba5-4d2197e5ce41",
   "metadata": {},
   "outputs": [
    {
     "data": {
      "text/plain": [
       "()"
      ]
     },
     "execution_count": 19,
     "metadata": {},
     "output_type": "execute_result"
    }
   ],
   "source": [
    "for (x, y, rgb) in img.pixels() {\n",
    "    let x = x as _;\n",
    "    let y = y as _;\n",
    "    let [r, g, b, _] = rgb.0;\n",
    "    input[(0, 0, y, x)] = (r as f32) / 255.;\n",
    "    input[(0, 1, y, x)] = (g as f32) / 255.;\n",
    "    input[(0, 2, y, x)] = (b as f32) / 255.;\n",
    "}"
   ]
  },
  {
   "cell_type": "code",
   "execution_count": 20,
   "id": "0ea4ac83-9e9c-4b73-a06b-2c910d37a69a",
   "metadata": {},
   "outputs": [
    {
     "name": "stdout",
     "output_type": "stream",
     "text": [
      "ndarray::ArrayBase<ndarray::ViewRepr<&f32>, ndarray::dimension::dim::Dim<[usize; 4]>>\n"
     ]
    }
   ],
   "source": [
    "print_type_of(&input.view());"
   ]
  },
  {
   "cell_type": "code",
   "execution_count": 21,
   "id": "3a2ec74a-d190-40f3-baf2-739f165d253d",
   "metadata": {},
   "outputs": [
    {
     "name": "stdout",
     "output_type": "stream",
     "text": [
      "ndarray::ArrayBase<ndarray::data_repr::OwnedRepr<f32>, ndarray::dimension::dim::Dim<[usize; 4]>>\n"
     ]
    }
   ],
   "source": [
    "print_type_of(&input);"
   ]
  },
  {
   "cell_type": "code",
   "execution_count": 22,
   "id": "5255e434-b5a5-44aa-8c39-b29a41bcfafc",
   "metadata": {},
   "outputs": [],
   "source": [
    "const YOLOV8_CLASS_LABELS: [&str; 80] = [\n",
    "    \"person\", \"bicycle\", \"car\", \"motorcycle\", \"airplane\", \"bus\", \"train\", \"truck\", \"boat\", \"traffic light\",\n",
    "\t\"fire hydrant\", \"stop sign\", \"parking meter\", \"bench\", \"bird\", \"cat\", \"dog\", \"horse\", \"sheep\", \"cow\", \"elephant\",\n",
    "\t\"bear\", \"zebra\", \"giraffe\", \"backpack\", \"umbrella\", \"handbag\", \"tie\", \"suitcase\", \"frisbee\", \"skis\", \"snowboard\",\n",
    "\t\"sports ball\", \"kite\", \"baseball bat\", \"baseball glove\", \"skateboard\", \"surfboard\", \"tennis racket\", \"bottle\",\n",
    "\t\"wine glass\", \"cup\", \"fork\", \"knife\", \"spoon\", \"bowl\", \"banana\", \"apple\", \"sandwich\", \"orange\", \"broccoli\",\n",
    "\t\"carrot\", \"hot dog\", \"pizza\", \"donut\", \"cake\", \"chair\", \"couch\", \"potted plant\", \"bed\", \"dining table\", \"toilet\",\n",
    "\t\"tv\", \"laptop\", \"mouse\", \"remote\", \"keyboard\", \"cell phone\", \"microwave\", \"oven\", \"toaster\", \"sink\", \"refrigerator\",\n",
    "\t\"book\", \"clock\", \"vase\", \"scissors\", \"teddy bear\", \"hair drier\", \"toothbrush\"\n",
    "];\n"
   ]
  },
  {
   "cell_type": "code",
   "execution_count": 27,
   "id": "c2692585-9be6-463d-9938-3c8e55efea41",
   "metadata": {},
   "outputs": [
    {
     "name": "stdout",
     "output_type": "stream",
     "text": [
      "ort::session::output::SessionOutputs\n",
      "[\"output0\"]\n",
      "ort::value::Value\n",
      "[1, 84, 8400], 705600\n",
      "ort::tensor::Tensor<f32>\n",
      "ort::tensor::ArrayViewHolder<f32>\n",
      "[1, 84, 8400]\n",
      "ndarray::ArrayBase<ndarray::ViewRepr<&f32>, ndarray::dimension::dim::Dim<ndarray::dimension::dynindeximpl::IxDynImpl>>\n",
      "[8400, 84, 1]\n",
      "[8400, 84]\n",
      "[249.19936, 502.17923, 52.591095, 13.788635] 34 0.509558\n",
      "[226.05466, 572.4138, 28.570679, 56.183655] 35 0.85798615\n",
      "[226.27249, 572.4507, 28.232681, 56.3844] 35 0.88766855\n",
      "[226.47989, 572.3797, 27.732666, 56.32361] 35 0.69679815\n",
      "[225.82463, 572.3745, 29.121002, 56.09662] 35 0.8554197\n",
      "[225.95483, 572.4892, 28.88478, 56.11682] 35 0.8656875\n",
      "[226.17255, 572.4514, 28.336472, 56.25354] 35 0.84642035\n",
      "[225.8009, 572.2546, 29.139725, 55.99597] 35 0.83526874\n",
      "[225.87451, 572.28564, 28.91397, 55.9505] 35 0.83369225\n",
      "[225.99356, 572.29364, 28.734787, 56.052612] 35 0.8384652\n",
      "[226.1612, 572.36865, 28.588638, 56.066284] 35 0.82622015\n",
      "[42.031322, 426.9093, 44.543785, 117.85742] 0 0.53654045\n",
      "[41.944942, 426.87323, 45.02305, 118.44681] 0 0.5094698\n",
      "[42.03574, 426.84302, 44.827034, 117.93161] 0 0.51919484\n",
      "[42.16025, 426.71643, 45.004402, 117.708954] 0 0.529888\n",
      "[42.237877, 427.14514, 45.33199, 117.10904] 0 0.51132506\n",
      "[249.35596, 502.13446, 52.27037, 13.968994] 34 0.53979117\n",
      "[249.25111, 502.2937, 51.897858, 13.749847] 34 0.5467811\n",
      "[74.17441, 536.7496, 102.16041, 206.33557] 0 0.7845444\n",
      "[74.55906, 536.74133, 102.61514, 205.71487] 0 0.8670806\n",
      "[74.32387, 536.76794, 102.01599, 206.1601] 0 0.86306715\n",
      "[74.15136, 536.5327, 102.18437, 205.74927] 0 0.8605532\n",
      "[74.514824, 536.4946, 102.34068, 205.79291] 0 0.87202334\n",
      "[74.32329, 536.4564, 101.79198, 206.05621] 0 0.86233884\n",
      "[74.168915, 536.5692, 102.192726, 205.72186] 0 0.85399574\n",
      "[172.85905, 568.7007, 133.0828, 142.03928] 0 0.8733585\n",
      "[74.641045, 535.96747, 102.24309, 207.23047] 0 0.86143434\n",
      "[74.42427, 536.13336, 101.96279, 206.87097] 0 0.85051423\n",
      "[74.409, 536.1703, 102.31304, 206.6557] 0 0.85535914\n",
      "[173.0787, 568.75903, 133.33156, 142.19806] 0 0.8600105\n",
      "[172.94284, 568.78394, 133.17583, 142.30585] 0 0.8726383\n",
      "[173.19327, 568.78845, 133.40956, 142.11041] 0 0.86940175\n",
      "[173.18665, 568.7522, 133.3971, 142.25677] 0 0.8816656\n",
      "[173.06335, 568.63745, 133.18272, 142.28961] 0 0.89013046\n",
      "[173.16978, 568.61536, 133.35855, 142.27905] 0 0.8812339\n",
      "[172.97623, 568.64575, 132.93214, 142.10779] 0 0.8957355\n",
      "[173.18097, 568.6603, 133.39595, 142.00983] 0 0.9039377\n",
      "[173.22404, 568.63806, 133.34366, 141.99857] 0 0.89616644\n",
      "[309.54477, 509.42596, 81.64551, 260.3761] 0 0.8846909\n",
      "[309.53345, 509.22308, 81.12546, 260.51477] 0 0.8306084\n",
      "[309.2885, 509.17212, 81.68906, 260.66687] 0 0.86674744\n",
      "[309.20233, 509.10266, 81.17651, 260.42422] 0 0.84900403\n",
      "[309.31357, 509.45258, 81.54266, 260.579] 0 0.8917879\n",
      "[309.16403, 509.52368, 81.59845, 260.39304] 0 0.87466925\n",
      "[309.20996, 509.84958, 81.51227, 259.50287] 0 0.89297616\n",
      "[309.1277, 509.68036, 81.83188, 259.76184] 0 0.87610406\n",
      "[308.91736, 509.77167, 81.84659, 259.6908] 0 0.8716553\n",
      "[309.13962, 509.6813, 82.10425, 260.03314] 0 0.83433694\n"
     ]
    },
    {
     "data": {
      "text/plain": [
       "()"
      ]
     },
     "execution_count": 27,
     "metadata": {},
     "output_type": "execute_result"
    }
   ],
   "source": [
    "//let mut boxes = Vec::new();\n",
    "\n",
    "{\n",
    "    let outputs: SessionOutputs = model.run(inputs![\"images\" => input.view()]?)?;\n",
    "    print_type_of(&outputs);\n",
    "    println!(\"{:?}\", outputs.keys());\n",
    "    let output = &outputs[\"output0\"];\n",
    "    print_type_of(output);\n",
    "    let (shape, data) = output.extract_raw_tensor::<f32>()?;\n",
    "    println!(\"{:?}, {}\", shape, data.len());\n",
    "    let value = output.extract_tensor::<f32>()?;\n",
    "    print_type_of(&value);\n",
    "    let view = value.view();\n",
    "    print_type_of(&view);\n",
    "    println!(\"{:?}\", view.shape());\n",
    "    let view = view.t();\n",
    "    print_type_of(&view);\n",
    "    println!(\"{:?}\", view.shape());\n",
    "\n",
    "    let output = view.slice(s![.., .., 0]);\n",
    "    println!(\"{:?}\", output.shape());\n",
    "\n",
    "    for row in output.axis_iter(Axis(0)) {\n",
    "        // print_type_of(&row);\n",
    "        // println!(\"{:?}\", row);\n",
    "        let argmax = row.slice(s![4..]).argmax().unwrap();\n",
    "        let val = row[[4usize + argmax,]];\n",
    "        //println!(\"{}, {}\", argmax, val);\n",
    "        if val > 0.5 {\n",
    "            println!(\"{} {} {}\", row.slice(s![0..4]), argmax, val);\n",
    "        }\n",
    "    }\n",
    "}\n"
   ]
  },
  {
   "cell_type": "code",
   "execution_count": null,
   "id": "57689780-2009-49fb-a915-2f3db98bc7c5",
   "metadata": {},
   "outputs": [],
   "source": []
  },
  {
   "cell_type": "code",
   "execution_count": null,
   "id": "a66d1a51-693e-4a55-afb1-bbf67983433c",
   "metadata": {},
   "outputs": [],
   "source": []
  }
 ],
 "metadata": {
  "kernelspec": {
   "display_name": "Rust",
   "language": "rust",
   "name": "rust"
  },
  "language_info": {
   "codemirror_mode": "rust",
   "file_extension": ".rs",
   "mimetype": "text/rust",
   "name": "Rust",
   "pygment_lexer": "rust",
   "version": ""
  }
 },
 "nbformat": 4,
 "nbformat_minor": 5
}
